{
 "metadata": {
  "language_info": {
   "codemirror_mode": {
    "name": "ipython",
    "version": 3
   },
   "file_extension": ".py",
   "mimetype": "text/x-python",
   "name": "python",
   "nbconvert_exporter": "python",
   "pygments_lexer": "ipython3",
   "version": "3.7.6-final"
  },
  "orig_nbformat": 2,
  "kernelspec": {
   "name": "python_defaultSpec_1597772920412",
   "display_name": "Python 3"
  }
 },
 "nbformat": 4,
 "nbformat_minor": 2,
 "cells": [
  {
   "cell_type": "markdown",
   "metadata": {},
   "source": [
    "# Introduction générale\n",
    "## Objectif d’apprentissage\n",
    "## Domaines d’application\n",
    "## Votre mission\n",
    "## Prérequis\n",
    "## Ressources"
   ]
  },
  {
   "cell_type": "markdown",
   "metadata": {},
   "source": [
    "# Modyle 0 : Mise en place de l'environnement"
   ]
  },
  {
   "cell_type": "markdown",
   "metadata": {},
   "source": [
    "## Création d'un environnement (anaconda)"
   ]
  },
  {
   "cell_type": "markdown",
   "metadata": {},
   "source": [
    "Ouvrir Anaconda Propmp et exécuter ces deux commandes:\n",
    "\n",
    "conda create --name myenv python=3.6\n",
    "\n",
    "conda activate myenv"
   ]
  },
  {
   "cell_type": "markdown",
   "metadata": {},
   "source": [
    "## Installation des librairies\n"
   ]
  },
  {
   "cell_type": "code",
   "execution_count": null,
   "metadata": {},
   "outputs": [],
   "source": [
    "#pip install pycaret"
   ]
  },
  {
   "cell_type": "markdown",
   "metadata": {},
   "source": [
    "## Import des librairies\n"
   ]
  },
  {
   "cell_type": "code",
   "execution_count": null,
   "metadata": {},
   "outputs": [],
   "source": [
    "from pycaret.datasets import get_data\n",
    "from pycaret.classification import *\n",
    "import pandas_profiling"
   ]
  },
  {
   "cell_type": "markdown",
   "metadata": {},
   "source": [
    "# Module 1 : Compréhension du métier"
   ]
  },
  {
   "cell_type": "markdown",
   "metadata": {},
   "source": [
    "## Vue d’ensemble du projet\n",
    "Quel est le problème de l'industrie que vous essayez de résoudre? \n",
    "Comment votre solution sera-t-elle utilisée? Est-ce qu’il y a une solution actuellement en place ?\n",
    "Pourquoi utiliser ML / AI pour résoudre cette tâche? \n",
    "Soyez aussi précis que possible lorsque vous décrivez comment le ML / AI peut apporter de la valeur.\n",
    "\n",
    "## « Business Case »\n",
    "Pourquoi est-ce un problème important à résoudre? \n",
    "Justifiez la construction de ce produit en termes d'impact sur les revenus récurrents, la part de marché, la satisfaction des clients et / ou d'autres facteurs de réussite commerciale.\n",
    "\n",
    "## Application de ML / AI \n",
    "Quelle tâche précise utiliserez-vous ML / AI pour accomplir? \n",
    "Quel résultat ou objectif d’affaires cherchez-vous à atteindre?\n",
    "\n",
    "Existe-t-il des problèmes comparables? Pouvez-vous réutiliser l'expérience ou les outils? \n",
    "L'expertise humaine est-elle disponible? Comment résoudriez-vous le problème manuellement?\n",
    "Énumérez les hypothèses que vous (ou d'autres) avez faites jusqu'à présent. Vérifiez les hypothèses si possibles.\n",
    "\n",
    "## Leviers\n",
    "\n",
    "## Mesures de succès\n",
    "Quelles mesures d’affaires appliquerez-vous pour déterminer le succès de votre produit? Est-ce que ces mesures sont alignées avec les objectifs d’affaire.\n",
    "Les bonnes métriques sont clairement définies et facilement mesurables. Spécifiez comment vous allez établir une valeur de référence pour fournir un point de comparaison.\n",
    "\n",
    "## Ressources"
   ]
  },
  {
   "cell_type": "markdown",
   "metadata": {},
   "source": [
    "# Module 2 : Données"
   ]
  },
  {
   "cell_type": "markdown",
   "metadata": {},
   "source": [
    "## Acquisition des données\n",
    "D'où allez-vous vous procurer vos données? \n",
    "Quel est le coût d'acquisition de ces données? \n",
    "Y a-t-il des problèmes d'identification personnelle (PII) ou de sensibilité des données que vous devrez surmonter? Les données seront-elles disponibles sur une base continue ou allez-vous acquérir un grand lot de données qui devront être actualisées?\n",
    "\n",
    "## Source des données\n",
    "Convertissez les données dans un format que vous pouvez facilement manipuler (sans modifier les données elles-mêmes).\n",
    "Assurez-vous que les informations sensibles sont supprimées ou protégées (par exemple, anonymisées). \n",
    "Vérifiez la taille et le type de données (séries chronologiques, échantillon, géographique, etc.). \n",
    "Quels biais sont intégrés aux données et comment les améliorer?\n",
    "Échantillonnez un ensemble de test, mettez-le de côté et ne le regardez jamais (pas de data snooping!).\n",
    "\n",
    "## Choix des étiquettes de données \n",
    "Quelles étiquettes avez-vous décidé d'ajouter à vos données? Et pourquoi avez-vous choisi ces étiquettes par rapport à toute autre option?\n",
    "\n"
   ]
  },
  {
   "cell_type": "code",
   "execution_count": null,
   "metadata": {},
   "outputs": [],
   "source": [
    "dataset = get_data('credit')\n",
    "#dataset = get_data('credit',profile=True)\n",
    "\n",
    "#pour avoir la liste des data dans la libraireu pyCaret: get_data('index')"
   ]
  },
  {
   "cell_type": "code",
   "execution_count": null,
   "metadata": {},
   "outputs": [],
   "source": [
    "data = dataset.sample(frac=0.95, random_state=786).reset_index(drop=True)\n",
    "data_unseen = dataset.drop(data.index).reset_index(drop=True)"
   ]
  },
  {
   "cell_type": "markdown",
   "metadata": {},
   "source": [
    "## Exploration des données\n",
    "Essayez d'obtenir le maximum d’input des experts du domaine\n",
    "Créez une copie des données pour l'exploration (en l'échantillonnant jusqu'à une taille gérable si nécessaire). \n",
    "Étudiez chaque attribut et ses caractéristiques.\n",
    "* Type\n",
    "* % de la valeurs manquantes\n",
    "* Bruit et type de bruit (stochastique, valeurs aberrantes, erreurs d'arrondi, etc.) \n",
    "* Distribution (gaussien, uniforme, logarithmique, etc.)\n",
    "\n",
    "Pour les tâches d'apprentissage supervisé, identifiez les attributs cibles. \n",
    "Visualisez les données. \n",
    "Étudiez les corrélations entre les attributs. \n",
    "Étudiez la façon dont vous résoudriez le problème manuellement. \n",
    "Identifiez les transformations prometteuses que vous voudrez peut-être appliquer.\n",
    "Identifiez les données supplémentaires qui seraient utiles \n",
    "Documentez ce que vous avez appris.\n"
   ]
  },
  {
   "cell_type": "code",
   "execution_count": null,
   "metadata": {
    "tags": []
   },
   "outputs": [],
   "source": [
    "pandas_profiling.ProfileReport(data)\n"
   ]
  },
  {
   "cell_type": "code",
   "execution_count": null,
   "metadata": {},
   "outputs": [],
   "source": []
  },
  {
   "cell_type": "markdown",
   "metadata": {},
   "source": [
    "## Préparation des données\n",
    "### Remarques générales: \n",
    "* Travaillez sur des copies des données (conservez l'ensemble de données d'origine intact). \n",
    "* Écrire des fonctions pour toutes les transformations de données que vous appliquez, pour cinq raisons:\n",
    "* Vous pouvez facilement préparer les données la prochaine fois que vous obtenez un nouvel ensemble de données \n",
    "* Vous pouvez appliquer ces transformations dans de futurs projets \n",
    "* Pour nettoyer et préparer l'ensemble de test \n",
    "* Pour nettoyer et préparer de nouvelles instances de données une fois que votre solution est en production \n",
    "* Pour faciliter le traitement de vos choix de préparation comme des hyperparamètres\n",
    "\n",
    "### Nettoyage des données: \n",
    "* Corrigez ou supprimez les valeurs aberrantes (facultatif). \n",
    "* Remplacer les valeurs manquantes (par exemple, avec zéro, moyenne, médiane, imputation) ou supprimez leurs lignes (ou colonnes).\n",
    "\n",
    "### Sélection des variables (facultatif): \n",
    "Supprimer les attributs qui ne fournissent aucune information utile pour la tâche. \n",
    "\n",
    "### Ingénierie des variables (feature engineering)\n",
    "Le cas échéant: \n",
    "* Discrétiser les variables continues.\n",
    "* Décomposer des attributs (par exemple, catégoriques, date / heure, etc.). \n",
    "* Ajoutez des transformations prometteuses de variables (par exemple, log (x), sqrt (x), x ^ 2, etc.). \n",
    "* Agréger les attributs en de nouvelles variables prometteuses. \n",
    "\n",
    "### Mise à l'échelle des variables\n",
    "Standardiser ou normaliser les variables.\n",
    "\n",
    "\n",
    "\n",
    "\n"
   ]
  },
  {
   "cell_type": "code",
   "execution_count": null,
   "metadata": {
    "tags": []
   },
   "outputs": [],
   "source": [
    "mySetup = setup(data=data,\n",
    "                target= 'default', #'TARGET VARIABLE',  # TODO\n",
    "                session_id=123\n",
    "\n",
    "                # train_size=0.7 \n",
    "                # sampling=True, sample_estimator=None,\n",
    "                # categorical_features=None, categorical_imputation='constant',\n",
    "                # ordinal_features=None,\n",
    "                # high_cardinality_features=None, high_cardinality_method='frequency',\n",
    "                # numeric_features=None, \n",
    "                # numeric_imputation='mean',\n",
    "                # date_features=None,\n",
    "                # ignore_features=None, \n",
    "                # normalize=False, normalize_method='zscore', \n",
    "                # transformation=False, transformation_method='yeo-johnson', \n",
    "                # handle_unknown_categorical=True, unknown_categorical_method='least_frequent', \n",
    "                # pca=False, pca_method='linear', pca_components=None, \n",
    "                # ignore_low_variance=False, \n",
    "                # combine_rare_levels=False, rare_level_threshold=0.1, \n",
    "                # bin_numeric_features=None, \n",
    "                # remove_outliers=False, outliers_threshold=0.05, \n",
    "                # remove_multicollinearity=False, multicollinearity_threshold=0.9,    \n",
    "                # remove_perfect_collinearity=False, create_clusters=False, cluster_iter=20, \n",
    "                # polynomial_features=False, polynomial_degree=2, \n",
    "                # trigonometry_features=False, \n",
    "                # polynomial_threshold=0.1, \n",
    "                # group_features=None, group_names=None, \n",
    "                # feature_selection=False, \n",
    "                # feature_selection_threshold=0.8, \n",
    "                # feature_interaction=False, \n",
    "                # feature_ratio=False, \n",
    "                # interaction_threshold=0.01, \n",
    "                # fix_imbalance=False, fix_imbalance_method=None, \n",
    "                # data_split_shuffle=True, folds_shuffle=False, \n",
    "                # n_jobs=- 1, \n",
    "                # html=True, \n",
    "                # log_experiment=False,\n",
    "                # experiment_name=None, \n",
    "                # log_plots=False, \n",
    "                # log_profile=False, \n",
    "                # log_data=False, \n",
    "                # silent=False, \n",
    "                # verbose=True, \n",
    "                # profile=False \n",
    "               )"
   ]
  },
  {
   "cell_type": "markdown",
   "metadata": {},
   "source": [
    "## Ressources\n",
    "* [Pandas_Profiling](https://github.com/pandas-profiling/pandas-profiling)\n",
    "* [Framework for Data Preparation Techniques in Machine Learning](https://machinelearningmastery.com/framework-for-data-preparation-for-machine-learning/)"
   ]
  },
  {
   "cell_type": "markdown",
   "metadata": {},
   "source": [
    "# Module 3 : Modèle/Analyse"
   ]
  },
  {
   "cell_type": "markdown",
   "metadata": {},
   "source": [
    "## Ressources pour le produit/modèle\n",
    "Comment allez-vous établir les ressources dont vous avez besoin?\n",
    "Allez-vous sous-traiter la création et / ou l'hébergement de modèles à une plate-forme externe, ou allez-vous construire le modèle en utilisant une équipe interne, et pourquoi?\n",
    "\n",
    "## Construction du modèle\n",
    "### Remarques\n",
    "* Si les données sont énormes, vous voudrez peut-être échantillonner des ensembles d'entraînement plus petits afin de pouvoir former de nombreux modèles différents dans un délai raisonnable (sachez que cela pénalise les modèles complexes tels que les grands réseaux de neurones ou les forêts aléatoires). • \n",
    "* Encore une fois, essayez d'automatiser autant que possible ces étapes.\n",
    "\n",
    "### Modèles de base\n",
    "Entrainer de nombreux modèles de bases rapides et de différentes catégories (par exemple, Bayes linéaires, naïfs, SVM, Forêts aléatoires, réseau neuronal, etc.) en utilisant des paramètres standard. \n",
    "\n",
    "### Mesurez et comparez leurs performances.\n",
    "Pour chaque modèle, utilisez la validation croisée N fois et calculez la moyenne et l'écart type de la mesure de performance sur les N plis (folds). \n",
    "\n",
    "### Importance des variables\n",
    "Analysez les variables les plus significatives pour chaque algorithme. \n",
    "\n",
    "### Analyse des erreurs\n",
    "* Analysez les types d'erreurs que les modèles font.\n",
    "* Quelles données un humain aurait-il utilisées pour éviter ces erreurs? \n",
    "\n",
    "### Sélection et ingénierie des variables\n",
    "Faites un tour rapide de la sélection et de l'ingénierie des variables.\n",
    "\n",
    "### Itération\n",
    "Faites une ou deux itérations rapides supplémentaires des cinq étapes précédentes. \n",
    "\n",
    "### Présélection de modèles\n",
    "Présélectionnez les trois à cinq modèles les plus prometteurs, préférant les modèles qui font différents types d'erreurs.\n",
    "\n",
    "\n",
    "## 'Fine Tuning' du Systeme\n",
    "### Remarques\n",
    "* Vous souhaiterez utiliser autant de données que possible pour cette étape, surtout lorsque vous vous dirigez vers la fin du réglage\n",
    "* Comme toujours, penser à automatisez ce que vous pouvez.\n",
    "\n",
    "### Affinez les hyperparamètres\n",
    "* Utiliser la validation croisée.\n",
    "* Traitez vos choix de transformation de données comme des hyperparamètres, surtout lorsque vous n'êtes pas sûr d'eux (par exemple, dois-je remplacer les valeurs manquantes par zéro ou par la valeur médiane? Ou simplement supprimer les lignes?). \n",
    "* À moins qu'il n'y ait très peu de valeurs hyperparamétriques à explorer, préférez la recherche aléatoire à la recherche sur la grille. Si la formation est très longue, vous pouvez préférer une approche d'optimisation bayésienne) \n",
    "\n",
    "### Essayez les méthodes d'ensemble. \n",
    "La combinaison de vos meilleurs modèles fonctionnera souvent mieux que de les exécuter individuellement.\n",
    "\n",
    "## Évaluation des résultats\n",
    "Une fois que vous êtes sûr de votre modèle final, mesurez ses performances sur l'ensemble de test pour estimer l'erreur de généralisation.\n",
    "Quelles mesures de performance du modèle sont appropriées pour mesurer son succès? Quel niveau de performance est requis?\n",
    "\n",
    "## Interprétabilité et explicabilité\n",
    "\n",
    "## Ressources\n",
    "* [PyCaret](https://pycaret.org/)\n",
    "* [Yellowbrick](https://www.scikit-yb.org/en/latest/index.html)\n",
    "* [Machine Learning Explainability](https://www.kaggle.com/learn/machine-learning-explainability)\n",
    "* [PRACTICAL BAYESIAN OPTIMIZATION OF MACHINE LEARNING ALGORITHMS](https://arxiv.org/pdf/1206.2944.pdf)\n",
    "\n",
    "\n"
   ]
  },
  {
   "cell_type": "code",
   "execution_count": 9,
   "metadata": {},
   "outputs": [
    {
     "output_type": "display_data",
     "data": {
      "text/plain": "<pandas.io.formats.style.Styler at 0x1944f69ba88>",
      "text/html": "<style  type=\"text/css\" >\n    #T_4357d658_e186_11ea_8873_c0b883eb9cf3 th {\n          text-align: left;\n    }    #T_4357d658_e186_11ea_8873_c0b883eb9cf3row0_col0 {\n            text-align:  left;\n        }    #T_4357d658_e186_11ea_8873_c0b883eb9cf3row0_col1 {\n            background-color:  yellow;\n            text-align:  left;\n        }    #T_4357d658_e186_11ea_8873_c0b883eb9cf3row0_col2 {\n            : ;\n            text-align:  left;\n        }    #T_4357d658_e186_11ea_8873_c0b883eb9cf3row0_col3 {\n            : ;\n            text-align:  left;\n        }    #T_4357d658_e186_11ea_8873_c0b883eb9cf3row0_col4 {\n            background-color:  yellow;\n            text-align:  left;\n        }    #T_4357d658_e186_11ea_8873_c0b883eb9cf3row0_col5 {\n            : ;\n            text-align:  left;\n        }    #T_4357d658_e186_11ea_8873_c0b883eb9cf3row0_col6 {\n            : ;\n            text-align:  left;\n        }    #T_4357d658_e186_11ea_8873_c0b883eb9cf3row0_col7 {\n            : ;\n            text-align:  left;\n        }    #T_4357d658_e186_11ea_8873_c0b883eb9cf3row0_col8 {\n            background-color:  lightgrey;\n            text-align:  left;\n        }    #T_4357d658_e186_11ea_8873_c0b883eb9cf3row1_col0 {\n            text-align:  left;\n        }    #T_4357d658_e186_11ea_8873_c0b883eb9cf3row1_col1 {\n            background-color:  yellow;\n            text-align:  left;\n        }    #T_4357d658_e186_11ea_8873_c0b883eb9cf3row1_col2 {\n            : ;\n            text-align:  left;\n        }    #T_4357d658_e186_11ea_8873_c0b883eb9cf3row1_col3 {\n            : ;\n            text-align:  left;\n        }    #T_4357d658_e186_11ea_8873_c0b883eb9cf3row1_col4 {\n            : ;\n            text-align:  left;\n        }    #T_4357d658_e186_11ea_8873_c0b883eb9cf3row1_col5 {\n            : ;\n            text-align:  left;\n        }    #T_4357d658_e186_11ea_8873_c0b883eb9cf3row1_col6 {\n            background-color:  yellow;\n            text-align:  left;\n        }    #T_4357d658_e186_11ea_8873_c0b883eb9cf3row1_col7 {\n            background-color:  yellow;\n            text-align:  left;\n        }    #T_4357d658_e186_11ea_8873_c0b883eb9cf3row1_col8 {\n            background-color:  lightgrey;\n            text-align:  left;\n        }    #T_4357d658_e186_11ea_8873_c0b883eb9cf3row2_col0 {\n            text-align:  left;\n        }    #T_4357d658_e186_11ea_8873_c0b883eb9cf3row2_col1 {\n            : ;\n            text-align:  left;\n        }    #T_4357d658_e186_11ea_8873_c0b883eb9cf3row2_col2 {\n            background-color:  yellow;\n            text-align:  left;\n        }    #T_4357d658_e186_11ea_8873_c0b883eb9cf3row2_col3 {\n            : ;\n            text-align:  left;\n        }    #T_4357d658_e186_11ea_8873_c0b883eb9cf3row2_col4 {\n            : ;\n            text-align:  left;\n        }    #T_4357d658_e186_11ea_8873_c0b883eb9cf3row2_col5 {\n            : ;\n            text-align:  left;\n        }    #T_4357d658_e186_11ea_8873_c0b883eb9cf3row2_col6 {\n            : ;\n            text-align:  left;\n        }    #T_4357d658_e186_11ea_8873_c0b883eb9cf3row2_col7 {\n            : ;\n            text-align:  left;\n        }    #T_4357d658_e186_11ea_8873_c0b883eb9cf3row2_col8 {\n            background-color:  lightgrey;\n            text-align:  left;\n        }    #T_4357d658_e186_11ea_8873_c0b883eb9cf3row3_col0 {\n            text-align:  left;\n        }    #T_4357d658_e186_11ea_8873_c0b883eb9cf3row3_col1 {\n            : ;\n            text-align:  left;\n        }    #T_4357d658_e186_11ea_8873_c0b883eb9cf3row3_col2 {\n            : ;\n            text-align:  left;\n        }    #T_4357d658_e186_11ea_8873_c0b883eb9cf3row3_col3 {\n            : ;\n            text-align:  left;\n        }    #T_4357d658_e186_11ea_8873_c0b883eb9cf3row3_col4 {\n            : ;\n            text-align:  left;\n        }    #T_4357d658_e186_11ea_8873_c0b883eb9cf3row3_col5 {\n            background-color:  yellow;\n            text-align:  left;\n        }    #T_4357d658_e186_11ea_8873_c0b883eb9cf3row3_col6 {\n            : ;\n            text-align:  left;\n        }    #T_4357d658_e186_11ea_8873_c0b883eb9cf3row3_col7 {\n            : ;\n            text-align:  left;\n        }    #T_4357d658_e186_11ea_8873_c0b883eb9cf3row3_col8 {\n            background-color:  lightgrey;\n            text-align:  left;\n        }    #T_4357d658_e186_11ea_8873_c0b883eb9cf3row4_col0 {\n            text-align:  left;\n        }    #T_4357d658_e186_11ea_8873_c0b883eb9cf3row4_col1 {\n            : ;\n            text-align:  left;\n        }    #T_4357d658_e186_11ea_8873_c0b883eb9cf3row4_col2 {\n            : ;\n            text-align:  left;\n        }    #T_4357d658_e186_11ea_8873_c0b883eb9cf3row4_col3 {\n            : ;\n            text-align:  left;\n        }    #T_4357d658_e186_11ea_8873_c0b883eb9cf3row4_col4 {\n            : ;\n            text-align:  left;\n        }    #T_4357d658_e186_11ea_8873_c0b883eb9cf3row4_col5 {\n            : ;\n            text-align:  left;\n        }    #T_4357d658_e186_11ea_8873_c0b883eb9cf3row4_col6 {\n            : ;\n            text-align:  left;\n        }    #T_4357d658_e186_11ea_8873_c0b883eb9cf3row4_col7 {\n            : ;\n            text-align:  left;\n        }    #T_4357d658_e186_11ea_8873_c0b883eb9cf3row4_col8 {\n            background-color:  lightgrey;\n            text-align:  left;\n        }    #T_4357d658_e186_11ea_8873_c0b883eb9cf3row5_col0 {\n            text-align:  left;\n        }    #T_4357d658_e186_11ea_8873_c0b883eb9cf3row5_col1 {\n            : ;\n            text-align:  left;\n        }    #T_4357d658_e186_11ea_8873_c0b883eb9cf3row5_col2 {\n            : ;\n            text-align:  left;\n        }    #T_4357d658_e186_11ea_8873_c0b883eb9cf3row5_col3 {\n            : ;\n            text-align:  left;\n        }    #T_4357d658_e186_11ea_8873_c0b883eb9cf3row5_col4 {\n            : ;\n            text-align:  left;\n        }    #T_4357d658_e186_11ea_8873_c0b883eb9cf3row5_col5 {\n            : ;\n            text-align:  left;\n        }    #T_4357d658_e186_11ea_8873_c0b883eb9cf3row5_col6 {\n            : ;\n            text-align:  left;\n        }    #T_4357d658_e186_11ea_8873_c0b883eb9cf3row5_col7 {\n            : ;\n            text-align:  left;\n        }    #T_4357d658_e186_11ea_8873_c0b883eb9cf3row5_col8 {\n            background-color:  lightgrey;\n            text-align:  left;\n        }    #T_4357d658_e186_11ea_8873_c0b883eb9cf3row6_col0 {\n            text-align:  left;\n        }    #T_4357d658_e186_11ea_8873_c0b883eb9cf3row6_col1 {\n            : ;\n            text-align:  left;\n        }    #T_4357d658_e186_11ea_8873_c0b883eb9cf3row6_col2 {\n            : ;\n            text-align:  left;\n        }    #T_4357d658_e186_11ea_8873_c0b883eb9cf3row6_col3 {\n            : ;\n            text-align:  left;\n        }    #T_4357d658_e186_11ea_8873_c0b883eb9cf3row6_col4 {\n            : ;\n            text-align:  left;\n        }    #T_4357d658_e186_11ea_8873_c0b883eb9cf3row6_col5 {\n            : ;\n            text-align:  left;\n        }    #T_4357d658_e186_11ea_8873_c0b883eb9cf3row6_col6 {\n            : ;\n            text-align:  left;\n        }    #T_4357d658_e186_11ea_8873_c0b883eb9cf3row6_col7 {\n            : ;\n            text-align:  left;\n        }    #T_4357d658_e186_11ea_8873_c0b883eb9cf3row6_col8 {\n            background-color:  lightgrey;\n            text-align:  left;\n        }    #T_4357d658_e186_11ea_8873_c0b883eb9cf3row7_col0 {\n            text-align:  left;\n        }    #T_4357d658_e186_11ea_8873_c0b883eb9cf3row7_col1 {\n            : ;\n            text-align:  left;\n        }    #T_4357d658_e186_11ea_8873_c0b883eb9cf3row7_col2 {\n            : ;\n            text-align:  left;\n        }    #T_4357d658_e186_11ea_8873_c0b883eb9cf3row7_col3 {\n            : ;\n            text-align:  left;\n        }    #T_4357d658_e186_11ea_8873_c0b883eb9cf3row7_col4 {\n            : ;\n            text-align:  left;\n        }    #T_4357d658_e186_11ea_8873_c0b883eb9cf3row7_col5 {\n            : ;\n            text-align:  left;\n        }    #T_4357d658_e186_11ea_8873_c0b883eb9cf3row7_col6 {\n            : ;\n            text-align:  left;\n        }    #T_4357d658_e186_11ea_8873_c0b883eb9cf3row7_col7 {\n            : ;\n            text-align:  left;\n        }    #T_4357d658_e186_11ea_8873_c0b883eb9cf3row7_col8 {\n            background-color:  lightgrey;\n            text-align:  left;\n        }    #T_4357d658_e186_11ea_8873_c0b883eb9cf3row8_col0 {\n            text-align:  left;\n        }    #T_4357d658_e186_11ea_8873_c0b883eb9cf3row8_col1 {\n            : ;\n            text-align:  left;\n        }    #T_4357d658_e186_11ea_8873_c0b883eb9cf3row8_col2 {\n            : ;\n            text-align:  left;\n        }    #T_4357d658_e186_11ea_8873_c0b883eb9cf3row8_col3 {\n            : ;\n            text-align:  left;\n        }    #T_4357d658_e186_11ea_8873_c0b883eb9cf3row8_col4 {\n            : ;\n            text-align:  left;\n        }    #T_4357d658_e186_11ea_8873_c0b883eb9cf3row8_col5 {\n            : ;\n            text-align:  left;\n        }    #T_4357d658_e186_11ea_8873_c0b883eb9cf3row8_col6 {\n            : ;\n            text-align:  left;\n        }    #T_4357d658_e186_11ea_8873_c0b883eb9cf3row8_col7 {\n            : ;\n            text-align:  left;\n        }    #T_4357d658_e186_11ea_8873_c0b883eb9cf3row8_col8 {\n            background-color:  lightgrey;\n            text-align:  left;\n        }    #T_4357d658_e186_11ea_8873_c0b883eb9cf3row9_col0 {\n            text-align:  left;\n        }    #T_4357d658_e186_11ea_8873_c0b883eb9cf3row9_col1 {\n            : ;\n            text-align:  left;\n        }    #T_4357d658_e186_11ea_8873_c0b883eb9cf3row9_col2 {\n            : ;\n            text-align:  left;\n        }    #T_4357d658_e186_11ea_8873_c0b883eb9cf3row9_col3 {\n            : ;\n            text-align:  left;\n        }    #T_4357d658_e186_11ea_8873_c0b883eb9cf3row9_col4 {\n            : ;\n            text-align:  left;\n        }    #T_4357d658_e186_11ea_8873_c0b883eb9cf3row9_col5 {\n            : ;\n            text-align:  left;\n        }    #T_4357d658_e186_11ea_8873_c0b883eb9cf3row9_col6 {\n            : ;\n            text-align:  left;\n        }    #T_4357d658_e186_11ea_8873_c0b883eb9cf3row9_col7 {\n            : ;\n            text-align:  left;\n        }    #T_4357d658_e186_11ea_8873_c0b883eb9cf3row9_col8 {\n            background-color:  lightgrey;\n            text-align:  left;\n        }    #T_4357d658_e186_11ea_8873_c0b883eb9cf3row10_col0 {\n            text-align:  left;\n        }    #T_4357d658_e186_11ea_8873_c0b883eb9cf3row10_col1 {\n            : ;\n            text-align:  left;\n        }    #T_4357d658_e186_11ea_8873_c0b883eb9cf3row10_col2 {\n            : ;\n            text-align:  left;\n        }    #T_4357d658_e186_11ea_8873_c0b883eb9cf3row10_col3 {\n            : ;\n            text-align:  left;\n        }    #T_4357d658_e186_11ea_8873_c0b883eb9cf3row10_col4 {\n            : ;\n            text-align:  left;\n        }    #T_4357d658_e186_11ea_8873_c0b883eb9cf3row10_col5 {\n            : ;\n            text-align:  left;\n        }    #T_4357d658_e186_11ea_8873_c0b883eb9cf3row10_col6 {\n            : ;\n            text-align:  left;\n        }    #T_4357d658_e186_11ea_8873_c0b883eb9cf3row10_col7 {\n            : ;\n            text-align:  left;\n        }    #T_4357d658_e186_11ea_8873_c0b883eb9cf3row10_col8 {\n            background-color:  lightgrey;\n            text-align:  left;\n        }    #T_4357d658_e186_11ea_8873_c0b883eb9cf3row11_col0 {\n            text-align:  left;\n        }    #T_4357d658_e186_11ea_8873_c0b883eb9cf3row11_col1 {\n            : ;\n            text-align:  left;\n        }    #T_4357d658_e186_11ea_8873_c0b883eb9cf3row11_col2 {\n            : ;\n            text-align:  left;\n        }    #T_4357d658_e186_11ea_8873_c0b883eb9cf3row11_col3 {\n            : ;\n            text-align:  left;\n        }    #T_4357d658_e186_11ea_8873_c0b883eb9cf3row11_col4 {\n            : ;\n            text-align:  left;\n        }    #T_4357d658_e186_11ea_8873_c0b883eb9cf3row11_col5 {\n            : ;\n            text-align:  left;\n        }    #T_4357d658_e186_11ea_8873_c0b883eb9cf3row11_col6 {\n            : ;\n            text-align:  left;\n        }    #T_4357d658_e186_11ea_8873_c0b883eb9cf3row11_col7 {\n            : ;\n            text-align:  left;\n        }    #T_4357d658_e186_11ea_8873_c0b883eb9cf3row11_col8 {\n            background-color:  lightgrey;\n            text-align:  left;\n        }    #T_4357d658_e186_11ea_8873_c0b883eb9cf3row12_col0 {\n            text-align:  left;\n        }    #T_4357d658_e186_11ea_8873_c0b883eb9cf3row12_col1 {\n            : ;\n            text-align:  left;\n        }    #T_4357d658_e186_11ea_8873_c0b883eb9cf3row12_col2 {\n            : ;\n            text-align:  left;\n        }    #T_4357d658_e186_11ea_8873_c0b883eb9cf3row12_col3 {\n            : ;\n            text-align:  left;\n        }    #T_4357d658_e186_11ea_8873_c0b883eb9cf3row12_col4 {\n            : ;\n            text-align:  left;\n        }    #T_4357d658_e186_11ea_8873_c0b883eb9cf3row12_col5 {\n            : ;\n            text-align:  left;\n        }    #T_4357d658_e186_11ea_8873_c0b883eb9cf3row12_col6 {\n            : ;\n            text-align:  left;\n        }    #T_4357d658_e186_11ea_8873_c0b883eb9cf3row12_col7 {\n            : ;\n            text-align:  left;\n        }    #T_4357d658_e186_11ea_8873_c0b883eb9cf3row12_col8 {\n            background-color:  lightgrey;\n            text-align:  left;\n        }    #T_4357d658_e186_11ea_8873_c0b883eb9cf3row13_col0 {\n            text-align:  left;\n        }    #T_4357d658_e186_11ea_8873_c0b883eb9cf3row13_col1 {\n            : ;\n            text-align:  left;\n        }    #T_4357d658_e186_11ea_8873_c0b883eb9cf3row13_col2 {\n            : ;\n            text-align:  left;\n        }    #T_4357d658_e186_11ea_8873_c0b883eb9cf3row13_col3 {\n            : ;\n            text-align:  left;\n        }    #T_4357d658_e186_11ea_8873_c0b883eb9cf3row13_col4 {\n            : ;\n            text-align:  left;\n        }    #T_4357d658_e186_11ea_8873_c0b883eb9cf3row13_col5 {\n            : ;\n            text-align:  left;\n        }    #T_4357d658_e186_11ea_8873_c0b883eb9cf3row13_col6 {\n            : ;\n            text-align:  left;\n        }    #T_4357d658_e186_11ea_8873_c0b883eb9cf3row13_col7 {\n            : ;\n            text-align:  left;\n        }    #T_4357d658_e186_11ea_8873_c0b883eb9cf3row13_col8 {\n            background-color:  lightgrey;\n            text-align:  left;\n        }    #T_4357d658_e186_11ea_8873_c0b883eb9cf3row14_col0 {\n            text-align:  left;\n        }    #T_4357d658_e186_11ea_8873_c0b883eb9cf3row14_col1 {\n            : ;\n            text-align:  left;\n        }    #T_4357d658_e186_11ea_8873_c0b883eb9cf3row14_col2 {\n            : ;\n            text-align:  left;\n        }    #T_4357d658_e186_11ea_8873_c0b883eb9cf3row14_col3 {\n            background-color:  yellow;\n            text-align:  left;\n        }    #T_4357d658_e186_11ea_8873_c0b883eb9cf3row14_col4 {\n            : ;\n            text-align:  left;\n        }    #T_4357d658_e186_11ea_8873_c0b883eb9cf3row14_col5 {\n            : ;\n            text-align:  left;\n        }    #T_4357d658_e186_11ea_8873_c0b883eb9cf3row14_col6 {\n            : ;\n            text-align:  left;\n        }    #T_4357d658_e186_11ea_8873_c0b883eb9cf3row14_col7 {\n            : ;\n            text-align:  left;\n        }    #T_4357d658_e186_11ea_8873_c0b883eb9cf3row14_col8 {\n            background-color:  lightgrey;\n            text-align:  left;\n        }</style><table id=\"T_4357d658_e186_11ea_8873_c0b883eb9cf3\" ><thead>    <tr>        <th class=\"blank level0\" ></th>        <th class=\"col_heading level0 col0\" >Model</th>        <th class=\"col_heading level0 col1\" >Accuracy</th>        <th class=\"col_heading level0 col2\" >AUC</th>        <th class=\"col_heading level0 col3\" >Recall</th>        <th class=\"col_heading level0 col4\" >Prec.</th>        <th class=\"col_heading level0 col5\" >F1</th>        <th class=\"col_heading level0 col6\" >Kappa</th>        <th class=\"col_heading level0 col7\" >MCC</th>        <th class=\"col_heading level0 col8\" >TT (Sec)</th>    </tr></thead><tbody>\n                <tr>\n                        <th id=\"T_4357d658_e186_11ea_8873_c0b883eb9cf3level0_row0\" class=\"row_heading level0 row0\" >0</th>\n                        <td id=\"T_4357d658_e186_11ea_8873_c0b883eb9cf3row0_col0\" class=\"data row0 col0\" >Ridge Classifier</td>\n                        <td id=\"T_4357d658_e186_11ea_8873_c0b883eb9cf3row0_col1\" class=\"data row0 col1\" >0.8236</td>\n                        <td id=\"T_4357d658_e186_11ea_8873_c0b883eb9cf3row0_col2\" class=\"data row0 col2\" >0.0000</td>\n                        <td id=\"T_4357d658_e186_11ea_8873_c0b883eb9cf3row0_col3\" class=\"data row0 col3\" >0.3646</td>\n                        <td id=\"T_4357d658_e186_11ea_8873_c0b883eb9cf3row0_col4\" class=\"data row0 col4\" >0.6932</td>\n                        <td id=\"T_4357d658_e186_11ea_8873_c0b883eb9cf3row0_col5\" class=\"data row0 col5\" >0.4776</td>\n                        <td id=\"T_4357d658_e186_11ea_8873_c0b883eb9cf3row0_col6\" class=\"data row0 col6\" >0.3836</td>\n                        <td id=\"T_4357d658_e186_11ea_8873_c0b883eb9cf3row0_col7\" class=\"data row0 col7\" >0.4124</td>\n                        <td id=\"T_4357d658_e186_11ea_8873_c0b883eb9cf3row0_col8\" class=\"data row0 col8\" >0.0685</td>\n            </tr>\n            <tr>\n                        <th id=\"T_4357d658_e186_11ea_8873_c0b883eb9cf3level0_row1\" class=\"row_heading level0 row1\" >1</th>\n                        <td id=\"T_4357d658_e186_11ea_8873_c0b883eb9cf3row1_col0\" class=\"data row1 col0\" >Linear Discriminant Analysis</td>\n                        <td id=\"T_4357d658_e186_11ea_8873_c0b883eb9cf3row1_col1\" class=\"data row1 col1\" >0.8236</td>\n                        <td id=\"T_4357d658_e186_11ea_8873_c0b883eb9cf3row1_col2\" class=\"data row1 col2\" >0.7703</td>\n                        <td id=\"T_4357d658_e186_11ea_8873_c0b883eb9cf3row1_col3\" class=\"data row1 col3\" >0.3813</td>\n                        <td id=\"T_4357d658_e186_11ea_8873_c0b883eb9cf3row1_col4\" class=\"data row1 col4\" >0.6818</td>\n                        <td id=\"T_4357d658_e186_11ea_8873_c0b883eb9cf3row1_col5\" class=\"data row1 col5\" >0.4888</td>\n                        <td id=\"T_4357d658_e186_11ea_8873_c0b883eb9cf3row1_col6\" class=\"data row1 col6\" >0.3923</td>\n                        <td id=\"T_4357d658_e186_11ea_8873_c0b883eb9cf3row1_col7\" class=\"data row1 col7\" >0.4167</td>\n                        <td id=\"T_4357d658_e186_11ea_8873_c0b883eb9cf3row1_col8\" class=\"data row1 col8\" >0.3398</td>\n            </tr>\n            <tr>\n                        <th id=\"T_4357d658_e186_11ea_8873_c0b883eb9cf3level0_row2\" class=\"row_heading level0 row2\" >2</th>\n                        <td id=\"T_4357d658_e186_11ea_8873_c0b883eb9cf3row2_col0\" class=\"data row2 col0\" >Gradient Boosting Classifier</td>\n                        <td id=\"T_4357d658_e186_11ea_8873_c0b883eb9cf3row2_col1\" class=\"data row2 col1\" >0.8225</td>\n                        <td id=\"T_4357d658_e186_11ea_8873_c0b883eb9cf3row2_col2\" class=\"data row2 col2\" >0.7888</td>\n                        <td id=\"T_4357d658_e186_11ea_8873_c0b883eb9cf3row2_col3\" class=\"data row2 col3\" >0.3652</td>\n                        <td id=\"T_4357d658_e186_11ea_8873_c0b883eb9cf3row2_col4\" class=\"data row2 col4\" >0.6868</td>\n                        <td id=\"T_4357d658_e186_11ea_8873_c0b883eb9cf3row2_col5\" class=\"data row2 col5\" >0.4765</td>\n                        <td id=\"T_4357d658_e186_11ea_8873_c0b883eb9cf3row2_col6\" class=\"data row2 col6\" >0.3815</td>\n                        <td id=\"T_4357d658_e186_11ea_8873_c0b883eb9cf3row2_col7\" class=\"data row2 col7\" >0.4093</td>\n                        <td id=\"T_4357d658_e186_11ea_8873_c0b883eb9cf3row2_col8\" class=\"data row2 col8\" >14.3871</td>\n            </tr>\n            <tr>\n                        <th id=\"T_4357d658_e186_11ea_8873_c0b883eb9cf3level0_row3\" class=\"row_heading level0 row3\" >3</th>\n                        <td id=\"T_4357d658_e186_11ea_8873_c0b883eb9cf3row3_col0\" class=\"data row3 col0\" >Light Gradient Boosting Machine</td>\n                        <td id=\"T_4357d658_e186_11ea_8873_c0b883eb9cf3row3_col1\" class=\"data row3 col1\" >0.8214</td>\n                        <td id=\"T_4357d658_e186_11ea_8873_c0b883eb9cf3row3_col2\" class=\"data row3 col2\" >0.7859</td>\n                        <td id=\"T_4357d658_e186_11ea_8873_c0b883eb9cf3row3_col3\" class=\"data row3 col3\" >0.3878</td>\n                        <td id=\"T_4357d658_e186_11ea_8873_c0b883eb9cf3row3_col4\" class=\"data row3 col4\" >0.6663</td>\n                        <td id=\"T_4357d658_e186_11ea_8873_c0b883eb9cf3row3_col5\" class=\"data row3 col5\" >0.4900</td>\n                        <td id=\"T_4357d658_e186_11ea_8873_c0b883eb9cf3row3_col6\" class=\"data row3 col6\" >0.3908</td>\n                        <td id=\"T_4357d658_e186_11ea_8873_c0b883eb9cf3row3_col7\" class=\"data row3 col7\" >0.4120</td>\n                        <td id=\"T_4357d658_e186_11ea_8873_c0b883eb9cf3row3_col8\" class=\"data row3 col8\" >0.6752</td>\n            </tr>\n            <tr>\n                        <th id=\"T_4357d658_e186_11ea_8873_c0b883eb9cf3level0_row4\" class=\"row_heading level0 row4\" >4</th>\n                        <td id=\"T_4357d658_e186_11ea_8873_c0b883eb9cf3row4_col0\" class=\"data row4 col0\" >CatBoost Classifier</td>\n                        <td id=\"T_4357d658_e186_11ea_8873_c0b883eb9cf3row4_col1\" class=\"data row4 col1\" >0.8203</td>\n                        <td id=\"T_4357d658_e186_11ea_8873_c0b883eb9cf3row4_col2\" class=\"data row4 col2\" >0.7882</td>\n                        <td id=\"T_4357d658_e186_11ea_8873_c0b883eb9cf3row4_col3\" class=\"data row4 col3\" >0.3839</td>\n                        <td id=\"T_4357d658_e186_11ea_8873_c0b883eb9cf3row4_col4\" class=\"data row4 col4\" >0.6626</td>\n                        <td id=\"T_4357d658_e186_11ea_8873_c0b883eb9cf3row4_col5\" class=\"data row4 col5\" >0.4859</td>\n                        <td id=\"T_4357d658_e186_11ea_8873_c0b883eb9cf3row4_col6\" class=\"data row4 col6\" >0.3862</td>\n                        <td id=\"T_4357d658_e186_11ea_8873_c0b883eb9cf3row4_col7\" class=\"data row4 col7\" >0.4075</td>\n                        <td id=\"T_4357d658_e186_11ea_8873_c0b883eb9cf3row4_col8\" class=\"data row4 col8\" >34.1845</td>\n            </tr>\n            <tr>\n                        <th id=\"T_4357d658_e186_11ea_8873_c0b883eb9cf3level0_row5\" class=\"row_heading level0 row5\" >5</th>\n                        <td id=\"T_4357d658_e186_11ea_8873_c0b883eb9cf3row5_col0\" class=\"data row5 col0\" >Ada Boost Classifier</td>\n                        <td id=\"T_4357d658_e186_11ea_8873_c0b883eb9cf3row5_col1\" class=\"data row5 col1\" >0.8185</td>\n                        <td id=\"T_4357d658_e186_11ea_8873_c0b883eb9cf3row5_col2\" class=\"data row5 col2\" >0.7783</td>\n                        <td id=\"T_4357d658_e186_11ea_8873_c0b883eb9cf3row5_col3\" class=\"data row5 col3\" >0.3507</td>\n                        <td id=\"T_4357d658_e186_11ea_8873_c0b883eb9cf3row5_col4\" class=\"data row5 col4\" >0.6729</td>\n                        <td id=\"T_4357d658_e186_11ea_8873_c0b883eb9cf3row5_col5\" class=\"data row5 col5\" >0.4607</td>\n                        <td id=\"T_4357d658_e186_11ea_8873_c0b883eb9cf3row5_col6\" class=\"data row5 col6\" >0.3644</td>\n                        <td id=\"T_4357d658_e186_11ea_8873_c0b883eb9cf3row5_col7\" class=\"data row5 col7\" >0.3926</td>\n                        <td id=\"T_4357d658_e186_11ea_8873_c0b883eb9cf3row5_col8\" class=\"data row5 col8\" >3.4224</td>\n            </tr>\n            <tr>\n                        <th id=\"T_4357d658_e186_11ea_8873_c0b883eb9cf3level0_row6\" class=\"row_heading level0 row6\" >6</th>\n                        <td id=\"T_4357d658_e186_11ea_8873_c0b883eb9cf3row6_col0\" class=\"data row6 col0\" >Extreme Gradient Boosting</td>\n                        <td id=\"T_4357d658_e186_11ea_8873_c0b883eb9cf3row6_col1\" class=\"data row6 col1\" >0.8146</td>\n                        <td id=\"T_4357d658_e186_11ea_8873_c0b883eb9cf3row6_col2\" class=\"data row6 col2\" >0.7670</td>\n                        <td id=\"T_4357d658_e186_11ea_8873_c0b883eb9cf3row6_col3\" class=\"data row6 col3\" >0.3822</td>\n                        <td id=\"T_4357d658_e186_11ea_8873_c0b883eb9cf3row6_col4\" class=\"data row6 col4\" >0.6349</td>\n                        <td id=\"T_4357d658_e186_11ea_8873_c0b883eb9cf3row6_col5\" class=\"data row6 col5\" >0.4767</td>\n                        <td id=\"T_4357d658_e186_11ea_8873_c0b883eb9cf3row6_col6\" class=\"data row6 col6\" >0.3726</td>\n                        <td id=\"T_4357d658_e186_11ea_8873_c0b883eb9cf3row6_col7\" class=\"data row6 col7\" >0.3905</td>\n                        <td id=\"T_4357d658_e186_11ea_8873_c0b883eb9cf3row6_col8\" class=\"data row6 col8\" >5.9586</td>\n            </tr>\n            <tr>\n                        <th id=\"T_4357d658_e186_11ea_8873_c0b883eb9cf3level0_row7\" class=\"row_heading level0 row7\" >7</th>\n                        <td id=\"T_4357d658_e186_11ea_8873_c0b883eb9cf3row7_col0\" class=\"data row7 col0\" >Random Forest Classifier</td>\n                        <td id=\"T_4357d658_e186_11ea_8873_c0b883eb9cf3row7_col1\" class=\"data row7 col1\" >0.8093</td>\n                        <td id=\"T_4357d658_e186_11ea_8873_c0b883eb9cf3row7_col2\" class=\"data row7 col2\" >0.7401</td>\n                        <td id=\"T_4357d658_e186_11ea_8873_c0b883eb9cf3row7_col3\" class=\"data row7 col3\" >0.3363</td>\n                        <td id=\"T_4357d658_e186_11ea_8873_c0b883eb9cf3row7_col4\" class=\"data row7 col4\" >0.6295</td>\n                        <td id=\"T_4357d658_e186_11ea_8873_c0b883eb9cf3row7_col5\" class=\"data row7 col5\" >0.4382</td>\n                        <td id=\"T_4357d658_e186_11ea_8873_c0b883eb9cf3row7_col6\" class=\"data row7 col6\" >0.3359</td>\n                        <td id=\"T_4357d658_e186_11ea_8873_c0b883eb9cf3row7_col7\" class=\"data row7 col7\" >0.3600</td>\n                        <td id=\"T_4357d658_e186_11ea_8873_c0b883eb9cf3row7_col8\" class=\"data row7 col8\" >0.1397</td>\n            </tr>\n            <tr>\n                        <th id=\"T_4357d658_e186_11ea_8873_c0b883eb9cf3level0_row8\" class=\"row_heading level0 row8\" >8</th>\n                        <td id=\"T_4357d658_e186_11ea_8873_c0b883eb9cf3row8_col0\" class=\"data row8 col0\" >Extra Trees Classifier</td>\n                        <td id=\"T_4357d658_e186_11ea_8873_c0b883eb9cf3row8_col1\" class=\"data row8 col1\" >0.8091</td>\n                        <td id=\"T_4357d658_e186_11ea_8873_c0b883eb9cf3row8_col2\" class=\"data row8 col2\" >0.7501</td>\n                        <td id=\"T_4357d658_e186_11ea_8873_c0b883eb9cf3row8_col3\" class=\"data row8 col3\" >0.3841</td>\n                        <td id=\"T_4357d658_e186_11ea_8873_c0b883eb9cf3row8_col4\" class=\"data row8 col4\" >0.6083</td>\n                        <td id=\"T_4357d658_e186_11ea_8873_c0b883eb9cf3row8_col5\" class=\"data row8 col5\" >0.4707</td>\n                        <td id=\"T_4357d658_e186_11ea_8873_c0b883eb9cf3row8_col6\" class=\"data row8 col6\" >0.3615</td>\n                        <td id=\"T_4357d658_e186_11ea_8873_c0b883eb9cf3row8_col7\" class=\"data row8 col7\" >0.3758</td>\n                        <td id=\"T_4357d658_e186_11ea_8873_c0b883eb9cf3row8_col8\" class=\"data row8 col8\" >1.2423</td>\n            </tr>\n            <tr>\n                        <th id=\"T_4357d658_e186_11ea_8873_c0b883eb9cf3level0_row9\" class=\"row_heading level0 row9\" >9</th>\n                        <td id=\"T_4357d658_e186_11ea_8873_c0b883eb9cf3row9_col0\" class=\"data row9 col0\" >Quadratic Discriminant Analysis</td>\n                        <td id=\"T_4357d658_e186_11ea_8873_c0b883eb9cf3row9_col1\" class=\"data row9 col1\" >0.7891</td>\n                        <td id=\"T_4357d658_e186_11ea_8873_c0b883eb9cf3row9_col2\" class=\"data row9 col2\" >0.7388</td>\n                        <td id=\"T_4357d658_e186_11ea_8873_c0b883eb9cf3row9_col3\" class=\"data row9 col3\" >0.1725</td>\n                        <td id=\"T_4357d658_e186_11ea_8873_c0b883eb9cf3row9_col4\" class=\"data row9 col4\" >0.6266</td>\n                        <td id=\"T_4357d658_e186_11ea_8873_c0b883eb9cf3row9_col5\" class=\"data row9 col5\" >0.2368</td>\n                        <td id=\"T_4357d658_e186_11ea_8873_c0b883eb9cf3row9_col6\" class=\"data row9 col6\" >0.1689</td>\n                        <td id=\"T_4357d658_e186_11ea_8873_c0b883eb9cf3row9_col7\" class=\"data row9 col7\" >0.2305</td>\n                        <td id=\"T_4357d658_e186_11ea_8873_c0b883eb9cf3row9_col8\" class=\"data row9 col8\" >0.0748</td>\n            </tr>\n            <tr>\n                        <th id=\"T_4357d658_e186_11ea_8873_c0b883eb9cf3level0_row10\" class=\"row_heading level0 row10\" >10</th>\n                        <td id=\"T_4357d658_e186_11ea_8873_c0b883eb9cf3row10_col0\" class=\"data row10 col0\" >Logistic Regression</td>\n                        <td id=\"T_4357d658_e186_11ea_8873_c0b883eb9cf3row10_col1\" class=\"data row10 col1\" >0.7786</td>\n                        <td id=\"T_4357d658_e186_11ea_8873_c0b883eb9cf3row10_col2\" class=\"data row10 col2\" >0.6517</td>\n                        <td id=\"T_4357d658_e186_11ea_8873_c0b883eb9cf3row10_col3\" class=\"data row10 col3\" >0.0006</td>\n                        <td id=\"T_4357d658_e186_11ea_8873_c0b883eb9cf3row10_col4\" class=\"data row10 col4\" >0.0750</td>\n                        <td id=\"T_4357d658_e186_11ea_8873_c0b883eb9cf3row10_col5\" class=\"data row10 col5\" >0.0011</td>\n                        <td id=\"T_4357d658_e186_11ea_8873_c0b883eb9cf3row10_col6\" class=\"data row10 col6\" >0.0001</td>\n                        <td id=\"T_4357d658_e186_11ea_8873_c0b883eb9cf3row10_col7\" class=\"data row10 col7\" >0.0001</td>\n                        <td id=\"T_4357d658_e186_11ea_8873_c0b883eb9cf3row10_col8\" class=\"data row10 col8\" >0.1984</td>\n            </tr>\n            <tr>\n                        <th id=\"T_4357d658_e186_11ea_8873_c0b883eb9cf3level0_row11\" class=\"row_heading level0 row11\" >11</th>\n                        <td id=\"T_4357d658_e186_11ea_8873_c0b883eb9cf3row11_col0\" class=\"data row11 col0\" >K Neighbors Classifier</td>\n                        <td id=\"T_4357d658_e186_11ea_8873_c0b883eb9cf3row11_col1\" class=\"data row11 col1\" >0.7505</td>\n                        <td id=\"T_4357d658_e186_11ea_8873_c0b883eb9cf3row11_col2\" class=\"data row11 col2\" >0.6097</td>\n                        <td id=\"T_4357d658_e186_11ea_8873_c0b883eb9cf3row11_col3\" class=\"data row11 col3\" >0.1802</td>\n                        <td id=\"T_4357d658_e186_11ea_8873_c0b883eb9cf3row11_col4\" class=\"data row11 col4\" >0.3694</td>\n                        <td id=\"T_4357d658_e186_11ea_8873_c0b883eb9cf3row11_col5\" class=\"data row11 col5\" >0.2421</td>\n                        <td id=\"T_4357d658_e186_11ea_8873_c0b883eb9cf3row11_col6\" class=\"data row11 col6\" >0.1134</td>\n                        <td id=\"T_4357d658_e186_11ea_8873_c0b883eb9cf3row11_col7\" class=\"data row11 col7\" >0.1240</td>\n                        <td id=\"T_4357d658_e186_11ea_8873_c0b883eb9cf3row11_col8\" class=\"data row11 col8\" >0.3922</td>\n            </tr>\n            <tr>\n                        <th id=\"T_4357d658_e186_11ea_8873_c0b883eb9cf3level0_row12\" class=\"row_heading level0 row12\" >12</th>\n                        <td id=\"T_4357d658_e186_11ea_8873_c0b883eb9cf3row12_col0\" class=\"data row12 col0\" >Decision Tree Classifier</td>\n                        <td id=\"T_4357d658_e186_11ea_8873_c0b883eb9cf3row12_col1\" class=\"data row12 col1\" >0.7301</td>\n                        <td id=\"T_4357d658_e186_11ea_8873_c0b883eb9cf3row12_col2\" class=\"data row12 col2\" >0.6211</td>\n                        <td id=\"T_4357d658_e186_11ea_8873_c0b883eb9cf3row12_col3\" class=\"data row12 col3\" >0.4244</td>\n                        <td id=\"T_4357d658_e186_11ea_8873_c0b883eb9cf3row12_col4\" class=\"data row12 col4\" >0.3973</td>\n                        <td id=\"T_4357d658_e186_11ea_8873_c0b883eb9cf3row12_col5\" class=\"data row12 col5\" >0.4101</td>\n                        <td id=\"T_4357d658_e186_11ea_8873_c0b883eb9cf3row12_col6\" class=\"data row12 col6\" >0.2355</td>\n                        <td id=\"T_4357d658_e186_11ea_8873_c0b883eb9cf3row12_col7\" class=\"data row12 col7\" >0.2359</td>\n                        <td id=\"T_4357d658_e186_11ea_8873_c0b883eb9cf3row12_col8\" class=\"data row12 col8\" >0.4293</td>\n            </tr>\n            <tr>\n                        <th id=\"T_4357d658_e186_11ea_8873_c0b883eb9cf3level0_row13\" class=\"row_heading level0 row13\" >13</th>\n                        <td id=\"T_4357d658_e186_11ea_8873_c0b883eb9cf3row13_col0\" class=\"data row13 col0\" >SVM - Linear Kernel</td>\n                        <td id=\"T_4357d658_e186_11ea_8873_c0b883eb9cf3row13_col1\" class=\"data row13 col1\" >0.7234</td>\n                        <td id=\"T_4357d658_e186_11ea_8873_c0b883eb9cf3row13_col2\" class=\"data row13 col2\" >0.0000</td>\n                        <td id=\"T_4357d658_e186_11ea_8873_c0b883eb9cf3row13_col3\" class=\"data row13 col3\" >0.1014</td>\n                        <td id=\"T_4357d658_e186_11ea_8873_c0b883eb9cf3row13_col4\" class=\"data row13 col4\" >0.1252</td>\n                        <td id=\"T_4357d658_e186_11ea_8873_c0b883eb9cf3row13_col5\" class=\"data row13 col5\" >0.0409</td>\n                        <td id=\"T_4357d658_e186_11ea_8873_c0b883eb9cf3row13_col6\" class=\"data row13 col6\" >0.0001</td>\n                        <td id=\"T_4357d658_e186_11ea_8873_c0b883eb9cf3row13_col7\" class=\"data row13 col7\" >0.0046</td>\n                        <td id=\"T_4357d658_e186_11ea_8873_c0b883eb9cf3row13_col8\" class=\"data row13 col8\" >0.5676</td>\n            </tr>\n            <tr>\n                        <th id=\"T_4357d658_e186_11ea_8873_c0b883eb9cf3level0_row14\" class=\"row_heading level0 row14\" >14</th>\n                        <td id=\"T_4357d658_e186_11ea_8873_c0b883eb9cf3row14_col0\" class=\"data row14 col0\" >Naive Bayes</td>\n                        <td id=\"T_4357d658_e186_11ea_8873_c0b883eb9cf3row14_col1\" class=\"data row14 col1\" >0.3651</td>\n                        <td id=\"T_4357d658_e186_11ea_8873_c0b883eb9cf3row14_col2\" class=\"data row14 col2\" >0.6458</td>\n                        <td id=\"T_4357d658_e186_11ea_8873_c0b883eb9cf3row14_col3\" class=\"data row14 col3\" >0.9020</td>\n                        <td id=\"T_4357d658_e186_11ea_8873_c0b883eb9cf3row14_col4\" class=\"data row14 col4\" >0.2455</td>\n                        <td id=\"T_4357d658_e186_11ea_8873_c0b883eb9cf3row14_col5\" class=\"data row14 col5\" >0.3859</td>\n                        <td id=\"T_4357d658_e186_11ea_8873_c0b883eb9cf3row14_col6\" class=\"data row14 col6\" >0.0585</td>\n                        <td id=\"T_4357d658_e186_11ea_8873_c0b883eb9cf3row14_col7\" class=\"data row14 col7\" >0.1224</td>\n                        <td id=\"T_4357d658_e186_11ea_8873_c0b883eb9cf3row14_col8\" class=\"data row14 col8\" >0.0321</td>\n            </tr>\n    </tbody></table>"
     },
     "metadata": {}
    },
    {
     "output_type": "execute_result",
     "data": {
      "text/plain": "RidgeClassifier(alpha=1.0, class_weight=None, copy_X=True, fit_intercept=True,\n                max_iter=None, normalize=False, random_state=123, solver='auto',\n                tol=0.001)"
     },
     "metadata": {},
     "execution_count": 9
    }
   ],
   "source": [
    "compare_models()"
   ]
  },
  {
   "cell_type": "code",
   "execution_count": null,
   "metadata": {},
   "outputs": [],
   "source": []
  },
  {
   "cell_type": "code",
   "execution_count": null,
   "metadata": {},
   "outputs": [],
   "source": []
  },
  {
   "cell_type": "code",
   "execution_count": null,
   "metadata": {},
   "outputs": [],
   "source": []
  },
  {
   "cell_type": "markdown",
   "metadata": {},
   "source": [
    "# Module 4 : Présentez votre solution"
   ]
  },
  {
   "cell_type": "markdown",
   "metadata": {},
   "source": [
    "## Documentation\n",
    "Documentez ce que vous avez fait\n",
    "\n",
    "## Créez une belle présentation. \n",
    "* Assurez-vous de mettre en évidence la vue d’ensemble du probleme.\n",
    "* Expliquez pourquoi votre solution atteint l'objectif commercial. \n",
    "\n",
    "## Apprentissage\n",
    "* Présenter les points intéressants que vous avez remarqués en cours de route. \n",
    "* Décrivez ce qui a fonctionné et ce qui n'a pas fonctionné. \n",
    "* Énumérez vos hypothèses et les limites de votre système. \n",
    "\n",
    "## Communication / Blogging\n",
    "Assurez-vous que vos principales constatations sont communiquées grâce à de belles visualisations ou à des conclusions faciles à retenir (par exemple, « le revenu médian est le prédicteur numéro un des prix des logements»).\n",
    "### Blogging\n",
    "Medium et Github\n",
    "\n",
    "## Ressources\n",
    "* [Advice for Better Blog Posts](https://www.fast.ai/2019/05/13/blogging-advice/)\n",
    "\n",
    "\n"
   ]
  },
  {
   "cell_type": "markdown",
   "metadata": {},
   "source": [
    "# Module 5 : Produit Data (MVP)"
   ]
  },
  {
   "cell_type": "markdown",
   "metadata": {},
   "source": [
    "## Conception \n",
    "À quoi ressemble votre produit minimum viable (MVP)? Incluez des croquis de votre produit.\n",
    "\n",
    "## Cas d'utilisation \n",
    "Pour quelle persona concevez-vous? Pouvez-vous décrire les principaux cas d'utilisation au niveau épique (epic) auxquels vos produits s'adressent? Comment les utilisateurs accèderont-ils à ce produit?\n",
    "\n",
    "## Roll-out\n",
    "À quoi ressemble le plan de mise sur le marché?\n",
    "\n",
    "## Ressources\n",
    "* [Desigining great data products](https://www.oreilly.com/radar/drivetrain-approach-data-products/)\n",
    "* [Data project checklist](https://www.fast.ai/2020/01/07/data-questionnaire/)\n",
    "* [From Predictive Modelling to Optimization](https://www.youtube.com/watch?v=vYrWTDxoeGg&feature=emb_logo)\n"
   ]
  },
  {
   "cell_type": "markdown",
   "metadata": {},
   "source": [
    "# Module 6 : Évaluation et Déploiement"
   ]
  },
  {
   "cell_type": "markdown",
   "metadata": {},
   "source": [
    "## Production\n",
    "### Mise en place \n",
    "Préparez votre solution pour la production (connectez-la aux entrées de données de production, écrivez des tests unitaires, etc.).\n",
    "\n",
    "### Surveillance\n",
    "* Écrivez un code de surveillance pour vérifier les performances en direct de votre système à intervalles réguliers et déclencher des alertes en cas de chute. \n",
    "* Attention également à la dégradation lente: les modèles ont tendance à se dégrader à mesure que les données évoluent.\n",
    "* La mesure des performances peut nécessiter un pipeline humain (par exemple via un service de crowdsourcing). \n",
    "* Surveillez également la qualité de vos entrées (par exemple, un capteur défectueux envoyant des valeurs aléatoires ou la sortie d’une autre équipe devenant obsolète). Ceci est particulièrement important pour les systèmes d'apprentissage en ligne. \n",
    "* Comment prévoyez-vous de surveiller ou d'atténuer les biais indésirables dans votre modèle?\n",
    "\n",
    "## Concevoir pour la longévité\n",
    "* Comment pourriez-vous améliorer votre produit à long terme? \n",
    "* En quoi les données du monde réel peuvent-elles être différentes des données d’entrainement? \n",
    "* Comment votre produit apprendra-t-il des nouvelles données? \n",
    "* Comment pourriez-vous utiliser les tests A / B pour améliorer votre produit?\n",
    "* Réentraînez régulièrement vos modèles sur de nouvelles données (automatisez autant que possible).\n",
    "\n",
    "## Ressources\n"
   ]
  },
  {
   "cell_type": "markdown",
   "metadata": {},
   "source": [
    "# Module 7 (optionnel) : Structurer et automatiser"
   ]
  },
  {
   "cell_type": "markdown",
   "metadata": {},
   "source": [
    "## Structurer le code\n",
    "### Writing code\n",
    "### Versioning\n",
    "### Testing\n",
    "### OOP\n",
    "\n",
    "## Data Ingineering (pipelines)\n",
    "\n",
    "## Ressources\n",
    "\n"
   ]
  },
  {
   "cell_type": "markdown",
   "metadata": {},
   "source": [
    "# Etapes suivantes"
   ]
  },
  {
   "cell_type": "markdown",
   "metadata": {},
   "source": [
    "# Ressources.\n",
    "## Ressources generales\n",
    "* [Ressources en Data Science](https://www.uluumy.com/courses/ressources-en-data-science)\n",
    "\n",
    "## Jupyter Notebook\n",
    "* [Markdown quick reference cheat sheet](https://wordpress.com/support/markdown-quick-reference/)\n",
    "\n",
    "## Versioning\n",
    "* [How To Use GitHub with VS Code in 2020 | Commit & Push | Part 1](https://youtu.be/3Tn58KQvWtU)"
   ]
  },
  {
   "cell_type": "markdown",
   "metadata": {},
   "source": []
  }
 ]
}